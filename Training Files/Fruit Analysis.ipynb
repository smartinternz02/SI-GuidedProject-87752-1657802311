{
 "cells": [
  {
   "cell_type": "markdown",
   "id": "b682f1bc",
   "metadata": {},
   "source": [
    "# Importing Packages"
   ]
  },
  {
   "cell_type": "code",
   "execution_count": 1,
   "id": "7f1df158",
   "metadata": {},
   "outputs": [],
   "source": [
    "from tensorflow.keras.preprocessing.image import ImageDataGenerator\n",
    "from keras.models import Sequential\n",
    "from keras.layers import Dense\n",
    "from keras.layers import Convolution2D\n",
    "from keras.layers import MaxPooling2D\n",
    "from keras.layers import Flatten\n",
    "import numpy as np\n",
    "from tensorflow.keras.models import load_model\n",
    "from tensorflow.keras.preprocessing import image"
   ]
  },
  {
   "cell_type": "markdown",
   "id": "803bf55d",
   "metadata": {},
   "source": [
    "# Image Augmentation"
   ]
  },
  {
   "cell_type": "code",
   "execution_count": 2,
   "id": "44e696c7",
   "metadata": {},
   "outputs": [],
   "source": [
    "train_datagen = ImageDataGenerator(rescale = 1./255,shear_range = 0.2,zoom_range = 0.2,horizontal_flip = True)\n",
    "test_datagen = ImageDataGenerator(rescale = 1./255)"
   ]
  },
  {
   "cell_type": "code",
   "execution_count": 3,
   "id": "007b9a71",
   "metadata": {},
   "outputs": [
    {
     "name": "stdout",
     "output_type": "stream",
     "text": [
      "Found 5339 images belonging to 6 classes.\n",
      "Found 1686 images belonging to 6 classes.\n"
     ]
    }
   ],
   "source": [
    "x_train = train_datagen.flow_from_directory('C:\\\\Users\\\\yashwanth\\\\Guided-proj\\\\Dataset Plant Disease\\\\fruit-dataset\\\\fruit-dataset\\\\train',target_size = (128,128),batch_size=8,class_mode = 'categorical')\n",
    "x_test = test_datagen.flow_from_directory('C:\\\\Users\\\\yashwanth\\\\Guided-proj\\\\Dataset Plant Disease\\\\fruit-dataset\\\\fruit-dataset\\\\test',target_size = (128,128),batch_size=8,class_mode = 'categorical')"
   ]
  },
  {
   "cell_type": "code",
   "execution_count": 4,
   "id": "05e2e565",
   "metadata": {},
   "outputs": [
    {
     "data": {
      "text/plain": [
       "{'Apple___Black_rot': 0,\n",
       " 'Apple___healthy': 1,\n",
       " 'Corn_(maize)___Northern_Leaf_Blight': 2,\n",
       " 'Corn_(maize)___healthy': 3,\n",
       " 'Peach___Bacterial_spot': 4,\n",
       " 'Peach___healthy': 5}"
      ]
     },
     "execution_count": 4,
     "metadata": {},
     "output_type": "execute_result"
    }
   ],
   "source": [
    "x_train.class_indices"
   ]
  },
  {
   "cell_type": "code",
   "execution_count": 5,
   "id": "e42584e4",
   "metadata": {},
   "outputs": [
    {
     "data": {
      "text/plain": [
       "{'Apple___Black_rot': 0,\n",
       " 'Apple___healthy': 1,\n",
       " 'Corn_(maize)___Northern_Leaf_Blight': 2,\n",
       " 'Corn_(maize)___healthy': 3,\n",
       " 'Peach___Bacterial_spot': 4,\n",
       " 'Peach___healthy': 5}"
      ]
     },
     "execution_count": 5,
     "metadata": {},
     "output_type": "execute_result"
    }
   ],
   "source": [
    "x_test.class_indices"
   ]
  },
  {
   "cell_type": "markdown",
   "id": "5bda675a",
   "metadata": {},
   "source": [
    "# Central Neural Network"
   ]
  },
  {
   "cell_type": "code",
   "execution_count": 6,
   "id": "bd71b5a6",
   "metadata": {},
   "outputs": [],
   "source": [
    "model = Sequential()"
   ]
  },
  {
   "cell_type": "code",
   "execution_count": 7,
   "id": "82633ad4",
   "metadata": {},
   "outputs": [],
   "source": [
    "model.add(Convolution2D(32,(3,3),input_shape=(128,128,3),activation='relu'))"
   ]
  },
  {
   "cell_type": "code",
   "execution_count": 8,
   "id": "c7ba4da0",
   "metadata": {},
   "outputs": [],
   "source": [
    "model.add(MaxPooling2D(pool_size=(2,2)))"
   ]
  },
  {
   "cell_type": "code",
   "execution_count": 9,
   "id": "8f07d102",
   "metadata": {},
   "outputs": [],
   "source": [
    "model.add(Flatten())"
   ]
  },
  {
   "cell_type": "markdown",
   "id": "1f592429",
   "metadata": {},
   "source": [
    "# Hidden Layers"
   ]
  },
  {
   "cell_type": "code",
   "execution_count": 10,
   "id": "2e96f482",
   "metadata": {},
   "outputs": [],
   "source": [
    "model.add(Dense(128 ,activation='relu'))\n",
    "model.add(Dense(64,activation = 'relu'))"
   ]
  },
  {
   "cell_type": "markdown",
   "id": "6568eaea",
   "metadata": {},
   "source": [
    "# Output Layer"
   ]
  },
  {
   "cell_type": "code",
   "execution_count": 11,
   "id": "6ac604ee",
   "metadata": {},
   "outputs": [],
   "source": [
    "model.add(Dense(6,activation = 'softmax'))"
   ]
  },
  {
   "cell_type": "code",
   "execution_count": 12,
   "id": "393ccab8",
   "metadata": {},
   "outputs": [],
   "source": [
    "model.compile(loss='categorical_crossentropy',optimizer='adam',metrics=['accuracy'])"
   ]
  },
  {
   "cell_type": "code",
   "execution_count": 13,
   "id": "e9d73ff6",
   "metadata": {},
   "outputs": [
    {
     "name": "stdout",
     "output_type": "stream",
     "text": [
      "Model: \"sequential\"\n",
      "_________________________________________________________________\n",
      " Layer (type)                Output Shape              Param #   \n",
      "=================================================================\n",
      " conv2d (Conv2D)             (None, 126, 126, 32)      896       \n",
      "                                                                 \n",
      " max_pooling2d (MaxPooling2D  (None, 63, 63, 32)       0         \n",
      " )                                                               \n",
      "                                                                 \n",
      " flatten (Flatten)           (None, 127008)            0         \n",
      "                                                                 \n",
      " dense (Dense)               (None, 128)               16257152  \n",
      "                                                                 \n",
      " dense_1 (Dense)             (None, 64)                8256      \n",
      "                                                                 \n",
      " dense_2 (Dense)             (None, 6)                 390       \n",
      "                                                                 \n",
      "=================================================================\n",
      "Total params: 16,266,694\n",
      "Trainable params: 16,266,694\n",
      "Non-trainable params: 0\n",
      "_________________________________________________________________\n"
     ]
    }
   ],
   "source": [
    "model.summary()"
   ]
  },
  {
   "cell_type": "code",
   "execution_count": 15,
   "id": "52aa1c5d",
   "metadata": {},
   "outputs": [
    {
     "name": "stdout",
     "output_type": "stream",
     "text": [
      "Epoch 1/10\n"
     ]
    },
    {
     "name": "stderr",
     "output_type": "stream",
     "text": [
      "C:\\Users\\yashwanth\\AppData\\Local\\Temp\\ipykernel_14704\\2589044667.py:1: UserWarning: `Model.fit_generator` is deprecated and will be removed in a future version. Please use `Model.fit`, which supports generators.\n",
      "  model.fit_generator(x_train,steps_per_epoch=5339//8,validation_data=x_test,validation_steps=1686//8,epochs=10)\n"
     ]
    },
    {
     "name": "stdout",
     "output_type": "stream",
     "text": [
      "667/667 [==============================] - 173s 259ms/step - loss: 0.2915 - accuracy: 0.8987 - val_loss: 0.4704 - val_accuracy: 0.8607\n",
      "Epoch 2/10\n",
      "667/667 [==============================] - 146s 219ms/step - loss: 0.2933 - accuracy: 0.9010 - val_loss: 0.1680 - val_accuracy: 0.9452\n",
      "Epoch 3/10\n",
      "667/667 [==============================] - 132s 197ms/step - loss: 0.1930 - accuracy: 0.9330 - val_loss: 0.1837 - val_accuracy: 0.9387\n",
      "Epoch 4/10\n",
      "667/667 [==============================] - 133s 199ms/step - loss: 0.2119 - accuracy: 0.9259 - val_loss: 0.1565 - val_accuracy: 0.9494\n",
      "Epoch 5/10\n",
      "667/667 [==============================] - 133s 199ms/step - loss: 0.1663 - accuracy: 0.9441 - val_loss: 0.1023 - val_accuracy: 0.9673\n",
      "Epoch 6/10\n",
      "667/667 [==============================] - 133s 199ms/step - loss: 0.1232 - accuracy: 0.9584 - val_loss: 0.1349 - val_accuracy: 0.9577\n",
      "Epoch 7/10\n",
      "667/667 [==============================] - 138s 207ms/step - loss: 0.1166 - accuracy: 0.9599 - val_loss: 0.1330 - val_accuracy: 0.9577\n",
      "Epoch 8/10\n",
      "667/667 [==============================] - 138s 206ms/step - loss: 0.1167 - accuracy: 0.9599 - val_loss: 0.1852 - val_accuracy: 0.9429\n",
      "Epoch 9/10\n",
      "667/667 [==============================] - 158s 238ms/step - loss: 0.1279 - accuracy: 0.9561 - val_loss: 0.1263 - val_accuracy: 0.9708\n",
      "Epoch 10/10\n",
      "667/667 [==============================] - 148s 222ms/step - loss: 0.0989 - accuracy: 0.9689 - val_loss: 0.2121 - val_accuracy: 0.9399\n"
     ]
    },
    {
     "data": {
      "text/plain": [
       "<keras.callbacks.History at 0x2b992a5a280>"
      ]
     },
     "execution_count": 15,
     "metadata": {},
     "output_type": "execute_result"
    }
   ],
   "source": [
    "model.fit_generator(x_train,steps_per_epoch=5339//8,validation_data=x_test,validation_steps=1686//8,epochs=10)"
   ]
  },
  {
   "cell_type": "markdown",
   "id": "da7b3320",
   "metadata": {},
   "source": [
    "# Saving Model"
   ]
  },
  {
   "cell_type": "code",
   "execution_count": 16,
   "id": "bb484f9e",
   "metadata": {},
   "outputs": [],
   "source": [
    "model.save(\"fruit.h5\")"
   ]
  },
  {
   "cell_type": "markdown",
   "id": "2b7f483b",
   "metadata": {},
   "source": [
    "# Testing Model"
   ]
  },
  {
   "cell_type": "markdown",
   "id": "9edcf94e",
   "metadata": {},
   "source": [
    "# Loading Model"
   ]
  },
  {
   "cell_type": "code",
   "execution_count": 17,
   "id": "6d5c6993",
   "metadata": {},
   "outputs": [],
   "source": [
    "model =load_model(\"fruit.h5\")"
   ]
  },
  {
   "cell_type": "code",
   "execution_count": 18,
   "id": "6b06b3e6",
   "metadata": {},
   "outputs": [
    {
     "data": {
      "image/png": "[encoded data removed]",
      "text/plain": [
       "<PIL.Image.Image image mode=RGB size=128x128 at 0x2B98CE43850>"
      ]
     },
     "execution_count": 18,
     "metadata": {},
     "output_type": "execute_result"
    }
   ],
   "source": [
    "img = image.load_img(\"C:\\\\Users\\\\yashwanth\\\\Guided-proj\\\\Dataset Plant Disease\\\\fruit-dataset\\\\fruit-dataset\\\\test\\\\Apple___healthy\\\\0a285c8b-1c31-48d4-89f2-af8b9edc36f6___RS_HL 5759.JPG\",target_size=(128,128))\n",
    "img\n"
   ]
  },
  {
   "cell_type": "code",
   "execution_count": 19,
   "id": "4a313297",
   "metadata": {},
   "outputs": [
    {
     "name": "stdout",
     "output_type": "stream",
     "text": [
      "1/1 [==============================] - 0s 153ms/step\n"
     ]
    },
    {
     "data": {
      "text/plain": [
       "'Apple___healthy'"
      ]
     },
     "execution_count": 19,
     "metadata": {},
     "output_type": "execute_result"
    }
   ],
   "source": [
    "x=image.img_to_array(img)\n",
    "x=np.expand_dims(x,axis=0)\n",
    "pred = np.argmax(model.predict(x),axis=1)\n",
    "\n",
    "index=['Apple___Black_rot',\n",
    " 'Apple___healthy',\n",
    " 'Corn_(maize)___Northern_Leaf_Blight',\n",
    " 'Corn_(maize)___healthy',\n",
    " 'Peach___Bacterial_spot',\n",
    " 'Peach___healthy']\n",
    "\n",
    "index[pred[0]]"
   ]
  },
  {
   "cell_type": "code",
   "execution_count": 20,
   "id": "40b84dd2",
   "metadata": {},
   "outputs": [
    {
     "name": "stdout",
     "output_type": "stream",
     "text": [
      "1/1 [==============================] - 0s 33ms/step\n"
     ]
    },
    {
     "data": {
      "text/plain": [
       "'Peach___Bacterial_spot'"
      ]
     },
     "execution_count": 20,
     "metadata": {},
     "output_type": "execute_result"
    }
   ],
   "source": [
    "img = image.load_img(\"C:\\\\Users\\\\yashwanth\\\\Guided-proj\\\\Dataset Plant Disease\\\\fruit-dataset\\\\fruit-dataset\\\\test\\\\Peach___Bacterial_spot\\\\00ddc106-692e-4c67-b2e8-569c924caf49___Rutg._Bact.S 1228.JPG\",target_size=(128,128))\n",
    "x=image.img_to_array(img)\n",
    "x=np.expand_dims(x,axis=0)\n",
    "pred = np.argmax(model.predict(x),axis=1)\n",
    "\n",
    "index=['Apple___Black_rot',\n",
    " 'Apple___healthy',\n",
    " 'Corn_(maize)___Northern_Leaf_Blight',\n",
    " 'Corn_(maize)___healthy',\n",
    " 'Peach___Bacterial_spot',\n",
    " 'Peach___healthy']\n",
    "\n",
    "index[pred[0]]"
   ]
  },
  {
   "cell_type": "code",
   "execution_count": 21,
   "id": "28081b24",
   "metadata": {},
   "outputs": [
    {
     "name": "stdout",
     "output_type": "stream",
     "text": [
      "1/1 [==============================] - 0s 27ms/step\n"
     ]
    },
    {
     "data": {
      "text/plain": [
       "'Apple___Black_rot'"
      ]
     },
     "execution_count": 21,
     "metadata": {},
     "output_type": "execute_result"
    }
   ],
   "source": [
    "img = image.load_img(\"C:\\\\Users\\\\yashwanth\\\\Guided-proj\\\\Dataset Plant Disease\\\\fruit-dataset\\\\fruit-dataset\\\\test\\Apple___Black_rot\\\\0b37761a-de32-47ee-a3a4-e138b97ef542___JR_FrgE.S 2908.JPG\",target_size=(128,128))\n",
    "x=image.img_to_array(img)\n",
    "x=np.expand_dims(x,axis=0)\n",
    "pred = np.argmax(model.predict(x),axis=1)\n",
    "\n",
    "index=['Apple___Black_rot',\n",
    " 'Apple___healthy',\n",
    " 'Corn_(maize)___Northern_Leaf_Blight',\n",
    " 'Corn_(maize)___healthy',\n",
    " 'Peach___Bacterial_spot',\n",
    " 'Peach___healthy']\n",
    "\n",
    "index[pred[0]]"
   ]
  },
  {
   "cell_type": "code",
   "execution_count": null,
   "id": "6ec500b9",
   "metadata": {},
   "outputs": [],
   "source": []
  }
 ],
 "metadata": {
  "kernelspec": {
   "display_name": "Python 3 (ipykernel)",
   "language": "python",
   "name": "python3"
  },
  "language_info": {
   "codemirror_mode": {
    "name": "ipython",
    "version": 3
   },
   "file_extension": ".py",
   "mimetype": "text/x-python",
   "name": "python",
   "nbconvert_exporter": "python",
   "pygments_lexer": "ipython3",
   "version": "3.9.12"
  }
 },
 "nbformat": 4,
 "nbformat_minor": 5
}
